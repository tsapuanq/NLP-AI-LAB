{
 "cells": [
  {
   "cell_type": "code",
   "execution_count": 2,
   "metadata": {},
   "outputs": [],
   "source": [
    "import pandas as pd\n",
    "import numpy as np"
   ]
  },
  {
   "cell_type": "code",
   "execution_count": 3,
   "metadata": {},
   "outputs": [
    {
     "data": {
      "text/html": [
       "<div>\n",
       "<style scoped>\n",
       "    .dataframe tbody tr th:only-of-type {\n",
       "        vertical-align: middle;\n",
       "    }\n",
       "\n",
       "    .dataframe tbody tr th {\n",
       "        vertical-align: top;\n",
       "    }\n",
       "\n",
       "    .dataframe thead th {\n",
       "        text-align: right;\n",
       "    }\n",
       "</style>\n",
       "<table border=\"1\" class=\"dataframe\">\n",
       "  <thead>\n",
       "    <tr style=\"text-align: right;\">\n",
       "      <th></th>\n",
       "      <th>Login</th>\n",
       "      <th>Course Code</th>\n",
       "      <th>Title</th>\n",
       "      <th>Credit</th>\n",
       "      <th>ECTS</th>\n",
       "      <th>Grade</th>\n",
       "      <th>Letter</th>\n",
       "      <th>Point</th>\n",
       "      <th>Traditional</th>\n",
       "    </tr>\n",
       "  </thead>\n",
       "  <tbody>\n",
       "    <tr>\n",
       "      <th>0</th>\n",
       "      <td>230183036</td>\n",
       "      <td>MAT 106</td>\n",
       "      <td>Information and Communication Technologies (in...</td>\n",
       "      <td>3</td>\n",
       "      <td>5</td>\n",
       "      <td>96.0</td>\n",
       "      <td>A</td>\n",
       "      <td>4.00</td>\n",
       "      <td>Excellent</td>\n",
       "    </tr>\n",
       "    <tr>\n",
       "      <th>1</th>\n",
       "      <td>230183036</td>\n",
       "      <td>MAT 123</td>\n",
       "      <td>Linear Algebra</td>\n",
       "      <td>4</td>\n",
       "      <td>5</td>\n",
       "      <td>85.0</td>\n",
       "      <td>B+</td>\n",
       "      <td>3.33</td>\n",
       "      <td>Good</td>\n",
       "    </tr>\n",
       "    <tr>\n",
       "      <th>2</th>\n",
       "      <td>230183036</td>\n",
       "      <td>MCM 103</td>\n",
       "      <td>Calculus 1</td>\n",
       "      <td>4</td>\n",
       "      <td>5</td>\n",
       "      <td>60.0</td>\n",
       "      <td>C-</td>\n",
       "      <td>1.67</td>\n",
       "      <td>Satisfactory</td>\n",
       "    </tr>\n",
       "    <tr>\n",
       "      <th>3</th>\n",
       "      <td>230183036</td>\n",
       "      <td>MDE 131</td>\n",
       "      <td>Turkish Language 1 (А1 level)</td>\n",
       "      <td>2</td>\n",
       "      <td>3</td>\n",
       "      <td>80.0</td>\n",
       "      <td>B</td>\n",
       "      <td>3.00</td>\n",
       "      <td>Good</td>\n",
       "    </tr>\n",
       "    <tr>\n",
       "      <th>4</th>\n",
       "      <td>230183036</td>\n",
       "      <td>MDE 160</td>\n",
       "      <td>Community engagement and value based Society 1</td>\n",
       "      <td>1</td>\n",
       "      <td>0</td>\n",
       "      <td>79.0</td>\n",
       "      <td>P</td>\n",
       "      <td>NaN</td>\n",
       "      <td>Pass</td>\n",
       "    </tr>\n",
       "  </tbody>\n",
       "</table>\n",
       "</div>"
      ],
      "text/plain": [
       "       Login Course Code                                              Title  \\\n",
       "0  230183036     MAT 106  Information and Communication Technologies (in...   \n",
       "1  230183036     MAT 123                                     Linear Algebra   \n",
       "2  230183036     MCM 103                                         Calculus 1   \n",
       "3  230183036     MDE 131                      Turkish Language 1 (А1 level)   \n",
       "4  230183036     MDE 160     Community engagement and value based Society 1   \n",
       "\n",
       "   Credit  ECTS  Grade Letter  Point   Traditional  \n",
       "0       3     5   96.0      A   4.00     Excellent  \n",
       "1       4     5   85.0     B+   3.33          Good  \n",
       "2       4     5   60.0     C-   1.67  Satisfactory  \n",
       "3       2     3   80.0      B   3.00          Good  \n",
       "4       1     0   79.0      P    NaN          Pass  "
      ]
     },
     "execution_count": 3,
     "metadata": {},
     "output_type": "execute_result"
    }
   ],
   "source": [
    "df = pd.read_csv('all_transcripts.csv')\n",
    "df.head()"
   ]
  },
  {
   "cell_type": "code",
   "execution_count": 4,
   "metadata": {},
   "outputs": [
    {
     "name": "stdout",
     "output_type": "stream",
     "text": [
      "Total sum of ECTS by Login:\n"
     ]
    },
    {
     "data": {
      "text/plain": [
       "Login\n",
       "230107045    133\n",
       "230183036    126\n",
       "230183023    124\n",
       "230101050    122\n",
       "Name: ECTS, dtype: int64"
      ]
     },
     "execution_count": 4,
     "metadata": {},
     "output_type": "execute_result"
    }
   ],
   "source": [
    "print('Total sum of ECTS by Login:')\n",
    "df_ects = df[df['Traditional'] != 'Pass']\n",
    "df_ects.groupby('Login')['ECTS'].sum().sort_values(ascending=False)"
   ]
  },
  {
   "cell_type": "code",
   "execution_count": 10,
   "metadata": {},
   "outputs": [
    {
     "name": "stdout",
     "output_type": "stream",
     "text": [
      "Current gpa by Login: \n"
     ]
    },
    {
     "name": "stderr",
     "output_type": "stream",
     "text": [
      "C:\\Users\\User\\AppData\\Local\\Temp\\ipykernel_14068\\261142703.py:2: SettingWithCopyWarning: \n",
      "A value is trying to be set on a copy of a slice from a DataFrame.\n",
      "Try using .loc[row_indexer,col_indexer] = value instead\n",
      "\n",
      "See the caveats in the documentation: https://pandas.pydata.org/pandas-docs/stable/user_guide/indexing.html#returning-a-view-versus-a-copy\n",
      "  df1['point_ects'] = df1['Point'] * df1['ECTS']\n"
     ]
    },
    {
     "data": {
      "text/plain": [
       "Login\n",
       "230183023    3.34\n",
       "230183036    3.33\n",
       "230101050    3.06\n",
       "230107045    2.79\n",
       "dtype: float64"
      ]
     },
     "execution_count": 10,
     "metadata": {},
     "output_type": "execute_result"
    }
   ],
   "source": [
    "df1 = df[df['Point'].notna()]\n",
    "df1['point_ects'] = df1['Point'] * df1['ECTS']\n",
    "sum_ects = df1.groupby('Login')['ECTS'].sum()\n",
    "sum_point_ects = df1.groupby('Login')['point_ects'].sum()\n",
    "print('Current gpa by ID: ')\n",
    "round(sum_point_ects / sum_ects, 2).sort_values(ascending=False)"
   ]
  },
  {
   "cell_type": "markdown",
   "metadata": {},
   "source": [
    "Получается у меня союирается ектс от 4го семака но там нет оценок "
   ]
  }
 ],
 "metadata": {
  "kernelspec": {
   "display_name": "base",
   "language": "python",
   "name": "python3"
  },
  "language_info": {
   "codemirror_mode": {
    "name": "ipython",
    "version": 3
   },
   "file_extension": ".py",
   "mimetype": "text/x-python",
   "name": "python",
   "nbconvert_exporter": "python",
   "pygments_lexer": "ipython3",
   "version": "3.11.7"
  }
 },
 "nbformat": 4,
 "nbformat_minor": 2
}
