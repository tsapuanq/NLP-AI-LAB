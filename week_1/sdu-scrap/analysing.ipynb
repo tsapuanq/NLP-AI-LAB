{
 "cells": [
  {
   "cell_type": "code",
   "execution_count": 1,
   "metadata": {},
   "outputs": [],
   "source": [
    "import pandas as pd\n",
    "import numpy as np"
   ]
  },
  {
   "cell_type": "code",
   "execution_count": 2,
   "metadata": {},
   "outputs": [
    {
     "data": {
      "text/html": [
       "<div>\n",
       "<style scoped>\n",
       "    .dataframe tbody tr th:only-of-type {\n",
       "        vertical-align: middle;\n",
       "    }\n",
       "\n",
       "    .dataframe tbody tr th {\n",
       "        vertical-align: top;\n",
       "    }\n",
       "\n",
       "    .dataframe thead th {\n",
       "        text-align: right;\n",
       "    }\n",
       "</style>\n",
       "<table border=\"1\" class=\"dataframe\">\n",
       "  <thead>\n",
       "    <tr style=\"text-align: right;\">\n",
       "      <th></th>\n",
       "      <th>Login</th>\n",
       "      <th>Course Code</th>\n",
       "      <th>Title</th>\n",
       "      <th>Credit</th>\n",
       "      <th>ECTS</th>\n",
       "      <th>Grade</th>\n",
       "      <th>Letter</th>\n",
       "      <th>Point</th>\n",
       "      <th>Traditional</th>\n",
       "    </tr>\n",
       "  </thead>\n",
       "  <tbody>\n",
       "    <tr>\n",
       "      <th>0</th>\n",
       "      <td>230183036</td>\n",
       "      <td>MAT 106</td>\n",
       "      <td>Information and Communication Technologies (in...</td>\n",
       "      <td>3</td>\n",
       "      <td>5</td>\n",
       "      <td>96.0</td>\n",
       "      <td>A</td>\n",
       "      <td>4.00</td>\n",
       "      <td>Excellent</td>\n",
       "    </tr>\n",
       "    <tr>\n",
       "      <th>1</th>\n",
       "      <td>230183036</td>\n",
       "      <td>MAT 123</td>\n",
       "      <td>Linear Algebra</td>\n",
       "      <td>4</td>\n",
       "      <td>5</td>\n",
       "      <td>85.0</td>\n",
       "      <td>B+</td>\n",
       "      <td>3.33</td>\n",
       "      <td>Good</td>\n",
       "    </tr>\n",
       "    <tr>\n",
       "      <th>2</th>\n",
       "      <td>230183036</td>\n",
       "      <td>MCM 103</td>\n",
       "      <td>Calculus 1</td>\n",
       "      <td>4</td>\n",
       "      <td>5</td>\n",
       "      <td>60.0</td>\n",
       "      <td>C-</td>\n",
       "      <td>1.67</td>\n",
       "      <td>Satisfactory</td>\n",
       "    </tr>\n",
       "    <tr>\n",
       "      <th>3</th>\n",
       "      <td>230183036</td>\n",
       "      <td>MDE 131</td>\n",
       "      <td>Turkish Language 1 (А1 level)</td>\n",
       "      <td>2</td>\n",
       "      <td>3</td>\n",
       "      <td>80.0</td>\n",
       "      <td>B</td>\n",
       "      <td>3.00</td>\n",
       "      <td>Good</td>\n",
       "    </tr>\n",
       "    <tr>\n",
       "      <th>4</th>\n",
       "      <td>230183036</td>\n",
       "      <td>MDE 160</td>\n",
       "      <td>Community engagement and value based Society 1</td>\n",
       "      <td>1</td>\n",
       "      <td>0</td>\n",
       "      <td>79.0</td>\n",
       "      <td>P</td>\n",
       "      <td>NaN</td>\n",
       "      <td>Pass</td>\n",
       "    </tr>\n",
       "  </tbody>\n",
       "</table>\n",
       "</div>"
      ],
      "text/plain": [
       "       Login Course Code                                              Title  \\\n",
       "0  230183036     MAT 106  Information and Communication Technologies (in...   \n",
       "1  230183036     MAT 123                                     Linear Algebra   \n",
       "2  230183036     MCM 103                                         Calculus 1   \n",
       "3  230183036     MDE 131                      Turkish Language 1 (А1 level)   \n",
       "4  230183036     MDE 160     Community engagement and value based Society 1   \n",
       "\n",
       "   Credit  ECTS  Grade Letter  Point   Traditional  \n",
       "0       3     5   96.0      A   4.00     Excellent  \n",
       "1       4     5   85.0     B+   3.33          Good  \n",
       "2       4     5   60.0     C-   1.67  Satisfactory  \n",
       "3       2     3   80.0      B   3.00          Good  \n",
       "4       1     0   79.0      P    NaN          Pass  "
      ]
     },
     "execution_count": 2,
     "metadata": {},
     "output_type": "execute_result"
    }
   ],
   "source": [
    "df = pd.read_csv('all_transcripts.csv')\n",
    "df.head()"
   ]
  },
  {
   "cell_type": "code",
   "execution_count": 3,
   "metadata": {},
   "outputs": [
    {
     "name": "stdout",
     "output_type": "stream",
     "text": [
      "<class 'pandas.core.frame.DataFrame'>\n",
      "RangeIndex: 136 entries, 0 to 135\n",
      "Data columns (total 9 columns):\n",
      " #   Column       Non-Null Count  Dtype  \n",
      "---  ------       --------------  -----  \n",
      " 0   Login        136 non-null    int64  \n",
      " 1   Course Code  136 non-null    object \n",
      " 2   Title        136 non-null    object \n",
      " 3   Credit       136 non-null    int64  \n",
      " 4   ECTS         136 non-null    int64  \n",
      " 5   Grade        101 non-null    float64\n",
      " 6   Letter       136 non-null    object \n",
      " 7   Point        88 non-null     float64\n",
      " 8   Traditional  136 non-null    object \n",
      "dtypes: float64(2), int64(3), object(4)\n",
      "memory usage: 9.7+ KB\n"
     ]
    }
   ],
   "source": [
    "df.info()"
   ]
  },
  {
   "cell_type": "code",
   "execution_count": 4,
   "metadata": {},
   "outputs": [
    {
     "data": {
      "text/html": [
       "<div>\n",
       "<style scoped>\n",
       "    .dataframe tbody tr th:only-of-type {\n",
       "        vertical-align: middle;\n",
       "    }\n",
       "\n",
       "    .dataframe tbody tr th {\n",
       "        vertical-align: top;\n",
       "    }\n",
       "\n",
       "    .dataframe thead th {\n",
       "        text-align: right;\n",
       "    }\n",
       "</style>\n",
       "<table border=\"1\" class=\"dataframe\">\n",
       "  <thead>\n",
       "    <tr style=\"text-align: right;\">\n",
       "      <th></th>\n",
       "      <th>Login</th>\n",
       "      <th>Credit</th>\n",
       "      <th>ECTS</th>\n",
       "      <th>Grade</th>\n",
       "      <th>Point</th>\n",
       "    </tr>\n",
       "  </thead>\n",
       "  <tbody>\n",
       "    <tr>\n",
       "      <th>count</th>\n",
       "      <td>1.360000e+02</td>\n",
       "      <td>136.000000</td>\n",
       "      <td>136.000000</td>\n",
       "      <td>101.000000</td>\n",
       "      <td>88.000000</td>\n",
       "    </tr>\n",
       "    <tr>\n",
       "      <th>mean</th>\n",
       "      <td>2.301430e+08</td>\n",
       "      <td>2.757353</td>\n",
       "      <td>3.933824</td>\n",
       "      <td>84.980198</td>\n",
       "      <td>3.181818</td>\n",
       "    </tr>\n",
       "    <tr>\n",
       "      <th>std</th>\n",
       "      <td>3.962514e+04</td>\n",
       "      <td>1.296699</td>\n",
       "      <td>1.606479</td>\n",
       "      <td>9.559268</td>\n",
       "      <td>0.565599</td>\n",
       "    </tr>\n",
       "    <tr>\n",
       "      <th>min</th>\n",
       "      <td>2.301010e+08</td>\n",
       "      <td>1.000000</td>\n",
       "      <td>0.000000</td>\n",
       "      <td>55.000000</td>\n",
       "      <td>1.330000</td>\n",
       "    </tr>\n",
       "    <tr>\n",
       "      <th>25%</th>\n",
       "      <td>2.301070e+08</td>\n",
       "      <td>1.750000</td>\n",
       "      <td>2.750000</td>\n",
       "      <td>80.000000</td>\n",
       "      <td>3.000000</td>\n",
       "    </tr>\n",
       "    <tr>\n",
       "      <th>50%</th>\n",
       "      <td>2.301070e+08</td>\n",
       "      <td>3.000000</td>\n",
       "      <td>5.000000</td>\n",
       "      <td>85.000000</td>\n",
       "      <td>3.330000</td>\n",
       "    </tr>\n",
       "    <tr>\n",
       "      <th>75%</th>\n",
       "      <td>2.301830e+08</td>\n",
       "      <td>4.000000</td>\n",
       "      <td>5.000000</td>\n",
       "      <td>92.000000</td>\n",
       "      <td>3.670000</td>\n",
       "    </tr>\n",
       "    <tr>\n",
       "      <th>max</th>\n",
       "      <td>2.301830e+08</td>\n",
       "      <td>6.000000</td>\n",
       "      <td>6.000000</td>\n",
       "      <td>100.000000</td>\n",
       "      <td>4.000000</td>\n",
       "    </tr>\n",
       "  </tbody>\n",
       "</table>\n",
       "</div>"
      ],
      "text/plain": [
       "              Login      Credit        ECTS       Grade      Point\n",
       "count  1.360000e+02  136.000000  136.000000  101.000000  88.000000\n",
       "mean   2.301430e+08    2.757353    3.933824   84.980198   3.181818\n",
       "std    3.962514e+04    1.296699    1.606479    9.559268   0.565599\n",
       "min    2.301010e+08    1.000000    0.000000   55.000000   1.330000\n",
       "25%    2.301070e+08    1.750000    2.750000   80.000000   3.000000\n",
       "50%    2.301070e+08    3.000000    5.000000   85.000000   3.330000\n",
       "75%    2.301830e+08    4.000000    5.000000   92.000000   3.670000\n",
       "max    2.301830e+08    6.000000    6.000000  100.000000   4.000000"
      ]
     },
     "execution_count": 4,
     "metadata": {},
     "output_type": "execute_result"
    }
   ],
   "source": [
    "df.describe()"
   ]
  },
  {
   "cell_type": "code",
   "execution_count": 5,
   "metadata": {},
   "outputs": [
    {
     "data": {
      "text/plain": [
       "Login           0\n",
       "Course Code     0\n",
       "Title           0\n",
       "Credit          0\n",
       "ECTS            0\n",
       "Grade          35\n",
       "Letter          0\n",
       "Point          48\n",
       "Traditional     0\n",
       "dtype: int64"
      ]
     },
     "execution_count": 5,
     "metadata": {},
     "output_type": "execute_result"
    }
   ],
   "source": [
    "df.isnull().sum()"
   ]
  },
  {
   "cell_type": "markdown",
   "metadata": {},
   "source": [
    "#### Уникальные значения grade and point"
   ]
  },
  {
   "cell_type": "code",
   "execution_count": 6,
   "metadata": {},
   "outputs": [
    {
     "name": "stdout",
     "output_type": "stream",
     "text": [
      "Unique values of Grade column:\n",
      "[ 96.  85.  60.  80.  79.  81. 100.  91.  74.  88.  94.  83.  90.  82.\n",
      "  89.  78.  92.  nan  86.  75.  67.  95.  71.  84.  70.  87.  73.  76.\n",
      "  77.  65.  97.  55.]\n",
      "\n",
      "Unique values of Point column:\n",
      "[4.   3.33 1.67 3.    nan 3.67 2.33 2.67 1.33]\n"
     ]
    }
   ],
   "source": [
    "print('Unique values of Grade column:')\n",
    "print(df['Grade'].unique())\n",
    "\n",
    "print()\n",
    "\n",
    "print('Unique values of Point column:')\n",
    "print(df['Point'].unique())"
   ]
  },
  {
   "cell_type": "code",
   "execution_count": 7,
   "metadata": {},
   "outputs": [
    {
     "data": {
      "text/plain": [
       "Login          0\n",
       "Course Code    0\n",
       "Title          0\n",
       "Credit         0\n",
       "ECTS           0\n",
       "Grade          0\n",
       "Letter         0\n",
       "Point          0\n",
       "Traditional    0\n",
       "dtype: int64"
      ]
     },
     "execution_count": 7,
     "metadata": {},
     "output_type": "execute_result"
    }
   ],
   "source": [
    "df = df[~df['Letter'].isin(['W', 'P', 'IP'])]\n",
    "df.isnull().sum()"
   ]
  },
  {
   "cell_type": "markdown",
   "metadata": {},
   "source": [
    "### Оставляем только те предметы которые влияют на gpa и которые были окончены"
   ]
  },
  {
   "cell_type": "code",
   "execution_count": 8,
   "metadata": {},
   "outputs": [
    {
     "name": "stdout",
     "output_type": "stream",
     "text": [
      "Total sum of ECTS by Login:\n",
      "Login\n",
      "230183036    94\n",
      "230107045    92\n",
      "230183023    91\n",
      "230101050    85\n",
      "Name: ECTS, dtype: int64\n"
     ]
    }
   ],
   "source": [
    "print('Total sum of ECTS by Login:')\n",
    "print(df.groupby('Login')['ECTS'].sum().sort_values(ascending=False))"
   ]
  },
  {
   "cell_type": "markdown",
   "metadata": {},
   "source": [
    "#### Считаем Gpa"
   ]
  },
  {
   "cell_type": "code",
   "execution_count": 9,
   "metadata": {},
   "outputs": [
    {
     "name": "stdout",
     "output_type": "stream",
     "text": [
      "Current gpa by ID: \n",
      "Login\n",
      "230183023    3.34\n",
      "230183036    3.33\n",
      "230101050    3.06\n",
      "230107045    2.79\n",
      "dtype: float64\n"
     ]
    }
   ],
   "source": [
    "df['point_ects'] = df['Point'] * df['ECTS']\n",
    "sum_ects = df.groupby('Login')['ECTS'].sum()\n",
    "sum_point_ects = df.groupby('Login')['point_ects'].sum()\n",
    "print('Current gpa by ID: ')\n",
    "print(round(sum_point_ects / sum_ects, 2).sort_values(ascending=False))"
   ]
  },
  {
   "cell_type": "markdown",
   "metadata": {},
   "source": [
    "#### Смотрим среднюю и медиану "
   ]
  },
  {
   "cell_type": "code",
   "execution_count": 10,
   "metadata": {},
   "outputs": [
    {
     "name": "stdout",
     "output_type": "stream",
     "text": [
      "Mean of the grade by \"Course Code\"\n",
      "Course Code\n",
      "MAT    87.705882\n",
      "MDE    86.638298\n",
      "SDS    83.153846\n",
      "INF    79.000000\n",
      "CSS    76.375000\n",
      "MCM    67.500000\n",
      "Name: Grade, dtype: float64\n",
      "\n",
      "Median of the grade by \"Course Code\"\n",
      "Course Code\n",
      "MAT    90.0\n",
      "MDE    86.0\n",
      "SDS    83.0\n",
      "INF    79.0\n",
      "CSS    75.0\n",
      "MCM    67.5\n",
      "Name: Grade, dtype: float64\n"
     ]
    }
   ],
   "source": [
    "print('Mean of the grade by \"Course Code\"')\n",
    "print(df.groupby(df['Course Code'].str[:3])['Grade'].mean().sort_values(ascending=False))\n",
    "\n",
    "print()\n",
    "\n",
    "print('Median of the grade by \"Course Code\"')\n",
    "print(df.groupby(df['Course Code'].str[:3])['Grade'].median().sort_values(ascending=False))"
   ]
  },
  {
   "cell_type": "markdown",
   "metadata": {},
   "source": [
    "#### Сумма кредитов по Course Code "
   ]
  },
  {
   "cell_type": "code",
   "execution_count": 12,
   "metadata": {},
   "outputs": [
    {
     "name": "stdout",
     "output_type": "stream",
     "text": [
      "Number of ECTS by Course Code\n",
      "Course Code\n",
      "MDE    157\n",
      "MAT     85\n",
      "SDS     65\n",
      "CSS     40\n",
      "MCM     10\n",
      "INF      5\n",
      "Name: ECTS, dtype: int64\n"
     ]
    }
   ],
   "source": [
    "print('Number of ECTS by Course Code')\n",
    "print(df.groupby(df['Course Code'].str[:3])['ECTS'].sum().sort_values(ascending=False))"
   ]
  },
  {
   "cell_type": "markdown",
   "metadata": {},
   "source": [
    "#### Анализ средних оценок разных предметов по ID "
   ]
  },
  {
   "cell_type": "code",
   "execution_count": 11,
   "metadata": {},
   "outputs": [
    {
     "name": "stdout",
     "output_type": "stream",
     "text": [
      "Mean of the grade by \"Course Code\" for MDE\n",
      "Login\n",
      "230183023    87.923077\n",
      "230183036    87.230769\n",
      "230101050    86.300000\n",
      "230107045    84.727273\n",
      "Name: Grade, dtype: float64\n"
     ]
    }
   ],
   "source": [
    "print('Mean of the grade by \"Course Code\" for MDE')\n",
    "print(df[df['Course Code'].str[:3] == 'MDE'].groupby('Login')['Grade'].mean().sort_values(ascending=False))"
   ]
  },
  {
   "cell_type": "code",
   "execution_count": 13,
   "metadata": {},
   "outputs": [
    {
     "name": "stdout",
     "output_type": "stream",
     "text": [
      "Mean of price by Turkish Language by ID\n",
      "Login\n",
      "230183023    84.000000\n",
      "230101050    83.000000\n",
      "230183036    78.333333\n",
      "230107045    73.333333\n",
      "Name: Grade, dtype: float64\n"
     ]
    }
   ],
   "source": [
    "print('Mean of grade by Turkish Language by ID')\n",
    "print(df[df['Title'].str[:7] == 'Turkish'].groupby('Login')['Grade'].mean().sort_values(ascending=False))"
   ]
  },
  {
   "cell_type": "code",
   "execution_count": 14,
   "metadata": {},
   "outputs": [
    {
     "name": "stdout",
     "output_type": "stream",
     "text": [
      "Mean of grade by Turkish Language by ID\n",
      "Login\n",
      "230183023    84.000000\n",
      "230101050    83.000000\n",
      "230183036    78.333333\n",
      "230107045    73.333333\n",
      "Name: Grade, dtype: float64\n"
     ]
    }
   ],
   "source": [
    "print('Mean of grade by Turkish Language by ID')\n",
    "print(df[df['Title'].str[:7] == 'Turkish'].groupby('Login')['Grade'].mean().sort_values(ascending=False))"
   ]
  }
 ],
 "metadata": {
  "kernelspec": {
   "display_name": "base",
   "language": "python",
   "name": "python3"
  },
  "language_info": {
   "codemirror_mode": {
    "name": "ipython",
    "version": 3
   },
   "file_extension": ".py",
   "mimetype": "text/x-python",
   "name": "python",
   "nbconvert_exporter": "python",
   "pygments_lexer": "ipython3",
   "version": "3.11.7"
  }
 },
 "nbformat": 4,
 "nbformat_minor": 2
}
